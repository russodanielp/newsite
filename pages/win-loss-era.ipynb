{
 "cells": [
  {
   "cell_type": "code",
   "execution_count": 1,
   "metadata": {},
   "outputs": [],
   "source": [
    "import urllib\n",
    "import xml.etree.ElementTree as ET"
   ]
  },
  {
   "cell_type": "code",
   "execution_count": null,
   "metadata": {},
   "outputs": [],
   "source": [
    "all_game_directories = []\n",
    "\n",
    "days = range(1, 32)\n",
    "months = range(4, 12)\n",
    "years = range(2016, 2019)\n",
    "\n",
    "for year in years:\n",
    "    for month in months:\n",
    "        for day in days:\n",
    "            games_for_day_string = \"http://gd2.mlb.com/components/game/mlb/year_{}/month_{:02d}/day_{:02d}/miniscoreboard.xml\".format(year, month, day)\n",
    "            try:\n",
    "                response = urllib.request.urlopen(games_for_day_string)\n",
    "                games = ET.fromstring(response.read())\n",
    "                for game in games:\n",
    "                    all_game_directories.append(game.get('game_data_directory'))\n",
    "            except urllib.error.HTTPError as e:\n",
    "                pass       \n"
   ]
  },
  {
   "cell_type": "code",
   "execution_count": null,
   "metadata": {
    "scrolled": false
   },
   "outputs": [],
   "source": [
    "game_scoreboards = []\n",
    "\n",
    "for game_dir in all_game_directories:\n",
    "    game_dir_str = \"http://gd2.mlb.com{}/miniscoreboard.xml\".format(game_dir)\n",
    "    try:\n",
    "        response = urllib.request.urlopen(game_dir_str)\n",
    "\n",
    "        game = ET.fromstring(response.read())\n",
    "        \n",
    "        # just get winning pitcher/ losing pitch info\n",
    "        post_game = game.find('post_game')\n",
    "        if post_game:\n",
    "            winning_pitcher = post_game.find('winning_pitcher')\n",
    "            losing_pitcher = post_game.find('losing_pitcher')\n",
    "            game_scoreboards.append((winning_pitcher, losing_pitcher))\n",
    "    except:\n",
    "        pass\n"
   ]
  },
  {
   "cell_type": "code",
   "execution_count": null,
   "metadata": {},
   "outputs": [],
   "source": [
    "import numpy as np\n",
    "def era(ers, ip):\n",
    "    if ers > 0 and ip == 0:\n",
    "        return np.inf\n",
    "    if ers == 0 and ip == 0:\n",
    "        return 0\n",
    "    return ers/ip * 9"
   ]
  },
  {
   "cell_type": "code",
   "execution_count": null,
   "metadata": {
    "scrolled": false
   },
   "outputs": [],
   "source": [
    "winning_pitcher_stats = []\n",
    "losing_pitcher_stats = []\n",
    "\n",
    "for winning_pitcher, losing_pitcher in game_scoreboards:\n",
    "\n",
    "    winner_er, winner_ip = float(winning_pitcher.get('er', 0)), float(winning_pitcher.get('ip', 0))\n",
    "    loser_er, loser_ip = float(losing_pitcher.get('er', 0)), float(losing_pitcher.get('ip', 0))\n",
    "    \n",
    "    winning_pitcher_stats.append((winner_er, winner_ip)) \n",
    "    losing_pitcher_stats.append((loser_er, loser_ip))"
   ]
  },
  {
   "cell_type": "code",
   "execution_count": null,
   "metadata": {},
   "outputs": [],
   "source": [
    "import pandas as pd\n",
    "\n",
    "winning_pitcher_stats = pd.DataFrame(winning_pitcher_stats, columns=['er', 'ip'])\n",
    "losing_pitcher_stats = pd.DataFrame(losing_pitcher_stats,  columns=['er', 'ip'])"
   ]
  },
  {
   "cell_type": "code",
   "execution_count": null,
   "metadata": {},
   "outputs": [],
   "source": [
    "winning_pitcher_stats['era'] = [era(row['er'], row['ip']) for i, row in winning_pitcher_stats.iterrows()]\n",
    "losing_pitcher_stats['era'] = [era(row['er'], row['ip']) for i, row in losing_pitcher_stats.iterrows()]"
   ]
  },
  {
   "cell_type": "code",
   "execution_count": null,
   "metadata": {},
   "outputs": [],
   "source": [
    "import matplotlib.pyplot as plt"
   ]
  },
  {
   "cell_type": "code",
   "execution_count": null,
   "metadata": {},
   "outputs": [],
   "source": [
    "fig, ax = plt.subplots(3, 3)\n",
    "\n",
    "for i, ax in enumerate(ax.flatten()):\n",
    "    \n",
    "    winning_data = winning_pitcher_stats['era'][winning_pitcher_stats['ip'] > i]\n",
    "    losing_data = losing_pitcher_stats['era'][losing_pitcher_stats['ip'] > i]\n",
    "    \n",
    "    ax.hist(winning_data, bins=100, alpha=0.5, label=\"winning\", color='blue')\n",
    "    ax.hist(losing_data, bins=100, alpha=0.5, label=\"losing\", color='red')\n",
    "\n",
    "plt.show()"
   ]
  },
  {
   "cell_type": "code",
   "execution_count": null,
   "metadata": {},
   "outputs": [],
   "source": [
    "print(losing_pitcher_stats['era'].sort_values())"
   ]
  },
  {
   "cell_type": "code",
   "execution_count": null,
   "metadata": {},
   "outputs": [],
   "source": [
    "import math"
   ]
  },
  {
   "cell_type": "code",
   "execution_count": null,
   "metadata": {},
   "outputs": [],
   "source": [
    "fig, ax = plt.subplots(1, 1)\n",
    "\n",
    "\n",
    "    \n",
    "winning_data = winning_pitcher_stats['era'][winning_pitcher_stats['ip'] > 3]\n",
    "losing_data = losing_pitcher_stats['era'][losing_pitcher_stats['ip'] > 3]\n",
    "\n",
    "ax.hist(winning_data, bins=20, alpha=0.8, label=\"winning\", color='blue')\n",
    "ax.hist(losing_data, bins=20, alpha=0.5, label=\"losing\", color='red')\n",
    "\n",
    "plt.show()"
   ]
  },
  {
   "cell_type": "code",
   "execution_count": null,
   "metadata": {},
   "outputs": [],
   "source": []
  },
  {
   "cell_type": "code",
   "execution_count": null,
   "metadata": {},
   "outputs": [],
   "source": []
  }
 ],
 "metadata": {
  "kernelspec": {
   "display_name": "Python 3",
   "language": "python",
   "name": "python3"
  },
  "language_info": {
   "codemirror_mode": {
    "name": "ipython",
    "version": 3
   },
   "file_extension": ".py",
   "mimetype": "text/x-python",
   "name": "python",
   "nbconvert_exporter": "python",
   "pygments_lexer": "ipython3",
   "version": "3.7.4"
  }
 },
 "nbformat": 4,
 "nbformat_minor": 2
}
